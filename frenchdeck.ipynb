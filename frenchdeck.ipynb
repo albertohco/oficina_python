{
 "cells": [
  {
   "cell_type": "markdown",
   "id": "8683f614",
   "metadata": {},
   "source": [
    "# 1. O modelo de dados do Python\n",
    "\n",
    "## 1.2. Um baralho pythônico\n"
   ]
  },
  {
   "cell_type": "markdown",
   "id": "60e75768-2e07-4fec-a2e9-1489eb9eaef4",
   "metadata": {},
   "source": [
    "### 1.2.1. Classe `Card`"
   ]
  },
  {
   "cell_type": "markdown",
   "id": "a301e6ce",
   "metadata": {},
   "source": [
    "\n",
    "`Card` é um `namedtuple` que representa uma carta de baralho."
   ]
  },
  {
   "cell_type": "code",
   "execution_count": 2,
   "id": "60d128c6",
   "metadata": {},
   "outputs": [],
   "source": [
    "import collections\n",
    "\n",
    "Card = collections.namedtuple('Card', ['rank', 'suit'])"
   ]
  },
  {
   "cell_type": "markdown",
   "id": "612a5505",
   "metadata": {},
   "source": [
    "O \"sete belo\" é conhecido como \"beer card\" nos EUA:"
   ]
  },
  {
   "cell_type": "code",
   "execution_count": 3,
   "id": "f840e176",
   "metadata": {},
   "outputs": [
    {
     "data": {
      "text/plain": [
       "Card(rank='7', suit='diamonds')"
      ]
     },
     "execution_count": 3,
     "metadata": {},
     "output_type": "execute_result"
    }
   ],
   "source": [
    "beer_card = Card('7', 'diamonds')\n",
    "beer_card"
   ]
  },
  {
   "cell_type": "code",
   "execution_count": 4,
   "id": "4e9cf489",
   "metadata": {},
   "outputs": [
    {
     "data": {
      "text/plain": [
       "('7', 'diamonds')"
      ]
     },
     "execution_count": 4,
     "metadata": {},
     "output_type": "execute_result"
    }
   ],
   "source": [
    "beer_card.rank, beer_card.suit"
   ]
  },
  {
   "cell_type": "code",
   "execution_count": 5,
   "id": "087eb2af",
   "metadata": {},
   "outputs": [
    {
     "data": {
      "text/plain": [
       "('7', 'diamonds')"
      ]
     },
     "execution_count": 5,
     "metadata": {},
     "output_type": "execute_result"
    }
   ],
   "source": [
    "beer_card[0], beer_card[1]"
   ]
  },
  {
   "cell_type": "markdown",
   "id": "d5f4a31c",
   "metadata": {},
   "source": [
    "Uma limitação de `namedtuple` é não permitir a declaração de métodos como em uma classe.\n",
    "\n",
    "Não é recomendado, mas é possível acrescentar métodos por [monkey-patch](https://en.wikipedia.org/wiki/Monkey_patch): você define uma função e atribui ela à classe, da mesma forma que criamos atributos em instâncias:"
   ]
  },
  {
   "cell_type": "code",
   "execution_count": 6,
   "id": "d98ced9f",
   "metadata": {},
   "outputs": [
    {
     "data": {
      "text/plain": [
       "'7 of diamonds'"
      ]
     },
     "execution_count": 6,
     "metadata": {},
     "output_type": "execute_result"
    }
   ],
   "source": [
    "def card_to_str(card):\n",
    "    return '%s of %s' % card\n",
    "\n",
    "card_to_str(beer_card)"
   ]
  },
  {
   "cell_type": "markdown",
   "id": "68ac5d52",
   "metadata": {},
   "source": [
    "Agora podemos atribuir a função à classe com o nome especial `__str__`:"
   ]
  },
  {
   "cell_type": "code",
   "execution_count": 7,
   "id": "93100815",
   "metadata": {},
   "outputs": [
    {
     "name": "stdout",
     "output_type": "stream",
     "text": [
      "7 of diamonds\n"
     ]
    }
   ],
   "source": [
    "Card.__str__ = card_to_str\n",
    "print(beer_card)"
   ]
  },
  {
   "cell_type": "markdown",
   "id": "93253972",
   "metadata": {},
   "source": [
    "### 1.2.2. Classe `FrenchDeck`\n",
    "\n",
    "`FrenchDeck` é uma classe que representa um \"baralho francês\", o tipo mais comum no Brasil, com 52 cartas em 4 naipes de 13 cartas."
   ]
  },
  {
   "cell_type": "code",
   "execution_count": 8,
   "id": "12ee5e3f",
   "metadata": {},
   "outputs": [],
   "source": [
    "class FrenchDeck:\n",
    "    ranks = [str(n) for n in range(2, 11)] + list('JQKA')\n",
    "    suits = 'spades diamonds clubs hearts'.split()\n",
    "\n",
    "    def __init__(self):\n",
    "        self._cards = [Card(rank, suit) for suit in self.suits\n",
    "                                        for rank in self.ranks]\n",
    "\n",
    "    def __len__(self):\n",
    "        return len(self._cards)\n",
    "\n",
    "    def __getitem__(self, position):\n",
    "        return self._cards[position]"
   ]
  },
  {
   "cell_type": "code",
   "execution_count": 9,
   "id": "795b0c6e",
   "metadata": {},
   "outputs": [
    {
     "data": {
      "text/plain": [
       "['spades', 'diamonds', 'clubs', 'hearts']"
      ]
     },
     "execution_count": 9,
     "metadata": {},
     "output_type": "execute_result"
    }
   ],
   "source": [
    "FrenchDeck.suits"
   ]
  },
  {
   "cell_type": "code",
   "execution_count": 10,
   "id": "fb1117eb",
   "metadata": {},
   "outputs": [
    {
     "data": {
      "text/plain": [
       "['2', '3', '4', '5', '6', '7', '8', '9', '10', 'J', 'Q', 'K', 'A']"
      ]
     },
     "execution_count": 10,
     "metadata": {},
     "output_type": "execute_result"
    }
   ],
   "source": [
    "FrenchDeck.ranks"
   ]
  },
  {
   "cell_type": "code",
   "execution_count": 11,
   "id": "2c90503b",
   "metadata": {},
   "outputs": [
    {
     "data": {
      "text/plain": [
       "[Card(rank='2', suit='spades'),\n",
       " Card(rank='3', suit='spades'),\n",
       " Card(rank='4', suit='spades'),\n",
       " Card(rank='5', suit='spades'),\n",
       " Card(rank='6', suit='spades'),\n",
       " Card(rank='7', suit='spades'),\n",
       " Card(rank='8', suit='spades'),\n",
       " Card(rank='9', suit='spades'),\n",
       " Card(rank='10', suit='spades'),\n",
       " Card(rank='J', suit='spades'),\n",
       " Card(rank='Q', suit='spades'),\n",
       " Card(rank='K', suit='spades'),\n",
       " Card(rank='A', suit='spades'),\n",
       " Card(rank='2', suit='diamonds'),\n",
       " Card(rank='3', suit='diamonds'),\n",
       " Card(rank='4', suit='diamonds'),\n",
       " Card(rank='5', suit='diamonds'),\n",
       " Card(rank='6', suit='diamonds'),\n",
       " Card(rank='7', suit='diamonds'),\n",
       " Card(rank='8', suit='diamonds'),\n",
       " Card(rank='9', suit='diamonds'),\n",
       " Card(rank='10', suit='diamonds'),\n",
       " Card(rank='J', suit='diamonds'),\n",
       " Card(rank='Q', suit='diamonds'),\n",
       " Card(rank='K', suit='diamonds'),\n",
       " Card(rank='A', suit='diamonds'),\n",
       " Card(rank='2', suit='clubs'),\n",
       " Card(rank='3', suit='clubs'),\n",
       " Card(rank='4', suit='clubs'),\n",
       " Card(rank='5', suit='clubs'),\n",
       " Card(rank='6', suit='clubs'),\n",
       " Card(rank='7', suit='clubs'),\n",
       " Card(rank='8', suit='clubs'),\n",
       " Card(rank='9', suit='clubs'),\n",
       " Card(rank='10', suit='clubs'),\n",
       " Card(rank='J', suit='clubs'),\n",
       " Card(rank='Q', suit='clubs'),\n",
       " Card(rank='K', suit='clubs'),\n",
       " Card(rank='A', suit='clubs'),\n",
       " Card(rank='2', suit='hearts'),\n",
       " Card(rank='3', suit='hearts'),\n",
       " Card(rank='4', suit='hearts'),\n",
       " Card(rank='5', suit='hearts'),\n",
       " Card(rank='6', suit='hearts'),\n",
       " Card(rank='7', suit='hearts'),\n",
       " Card(rank='8', suit='hearts'),\n",
       " Card(rank='9', suit='hearts'),\n",
       " Card(rank='10', suit='hearts'),\n",
       " Card(rank='J', suit='hearts'),\n",
       " Card(rank='Q', suit='hearts'),\n",
       " Card(rank='K', suit='hearts'),\n",
       " Card(rank='A', suit='hearts')]"
      ]
     },
     "execution_count": 11,
     "metadata": {},
     "output_type": "execute_result"
    }
   ],
   "source": [
    "b = FrenchDeck()\n",
    "b._cards"
   ]
  },
  {
   "cell_type": "markdown",
   "id": "c661f3e5",
   "metadata": {},
   "source": [
    "Veja as operações possíveis com um baralho:"
   ]
  },
  {
   "cell_type": "code",
   "execution_count": 12,
   "id": "585d44bf",
   "metadata": {},
   "outputs": [
    {
     "data": {
      "text/plain": [
       "52"
      ]
     },
     "execution_count": 12,
     "metadata": {},
     "output_type": "execute_result"
    }
   ],
   "source": [
    "deck = FrenchDeck()\n",
    "len(deck)"
   ]
  },
  {
   "cell_type": "code",
   "execution_count": 13,
   "id": "13a6f6df",
   "metadata": {},
   "outputs": [
    {
     "data": {
      "text/plain": [
       "Card(rank='5', suit='spades')"
      ]
     },
     "execution_count": 13,
     "metadata": {},
     "output_type": "execute_result"
    }
   ],
   "source": [
    "deck[3]"
   ]
  },
  {
   "cell_type": "code",
   "execution_count": 14,
   "id": "5ebb8717",
   "metadata": {},
   "outputs": [
    {
     "data": {
      "text/plain": [
       "[Card(rank='2', suit='spades'),\n",
       " Card(rank='3', suit='spades'),\n",
       " Card(rank='4', suit='spades')]"
      ]
     },
     "execution_count": 14,
     "metadata": {},
     "output_type": "execute_result"
    }
   ],
   "source": [
    "deck[:3]"
   ]
  },
  {
   "cell_type": "markdown",
   "id": "8436455b",
   "metadata": {},
   "source": [
    "**Nota**: nesse contexto o Python não usa o `__str__` de `Card`. Se você exibir com `print` uma carta de cada vez, daí o `__str__` é usado.\n",
    "\n",
    "Como `FrenchDeck` implementa `__len__` e `__getitem__`, Python entende que é uma `Sequence` (sequência), então o operador `in` funciona:"
   ]
  },
  {
   "cell_type": "code",
   "execution_count": 15,
   "id": "9cd61a8c",
   "metadata": {},
   "outputs": [
    {
     "data": {
      "text/plain": [
       "True"
      ]
     },
     "execution_count": 15,
     "metadata": {},
     "output_type": "execute_result"
    }
   ],
   "source": [
    "Card('Q', 'hearts') in deck"
   ]
  },
  {
   "cell_type": "markdown",
   "id": "8dcd2565",
   "metadata": {},
   "source": [
    "#### Exercício\n",
    "\n",
    "Crie uma carta que não existe, e verifique que o `in` devolve `False`"
   ]
  },
  {
   "cell_type": "code",
   "execution_count": 16,
   "id": "a22587e9",
   "metadata": {},
   "outputs": [
    {
     "data": {
      "text/plain": [
       "False"
      ]
     },
     "execution_count": 16,
     "metadata": {},
     "output_type": "execute_result"
    }
   ],
   "source": [
    "# sua resposta aqui\n",
    "\n",
    "Card('H', 'hearts') in deck"
   ]
  },
  {
   "cell_type": "markdown",
   "id": "20cec6b8",
   "metadata": {},
   "source": [
    "O laço `for` sabe lidar com sequências:"
   ]
  },
  {
   "cell_type": "code",
   "execution_count": 113,
   "id": "c0dc0afc",
   "metadata": {},
   "outputs": [
    {
     "name": "stdout",
     "output_type": "stream",
     "text": [
      "2 of spades\n",
      "3 of spades\n",
      "4 of spades\n",
      "5 of spades\n",
      "6 of spades\n",
      "7 of spades\n",
      "8 of spades\n",
      "9 of spades\n",
      "10 of spades\n",
      "J of spades\n",
      "Q of spades\n",
      "K of spades\n",
      "A of spades\n",
      "2 of diamonds\n",
      "3 of diamonds\n",
      "4 of diamonds\n",
      "5 of diamonds\n",
      "6 of diamonds\n",
      "7 of diamonds\n",
      "8 of diamonds\n",
      "9 of diamonds\n",
      "10 of diamonds\n",
      "J of diamonds\n",
      "Q of diamonds\n",
      "K of diamonds\n",
      "A of diamonds\n",
      "2 of clubs\n",
      "3 of clubs\n",
      "4 of clubs\n",
      "5 of clubs\n",
      "6 of clubs\n",
      "7 of clubs\n",
      "8 of clubs\n",
      "9 of clubs\n",
      "10 of clubs\n",
      "J of clubs\n",
      "Q of clubs\n",
      "K of clubs\n",
      "A of clubs\n",
      "2 of hearts\n",
      "3 of hearts\n",
      "4 of hearts\n",
      "5 of hearts\n",
      "6 of hearts\n",
      "7 of hearts\n",
      "8 of hearts\n",
      "9 of hearts\n",
      "10 of hearts\n",
      "J of hearts\n",
      "Q of hearts\n",
      "K of hearts\n",
      "A of hearts\n"
     ]
    }
   ],
   "source": [
    "for card in deck:\n",
    "    print(card)"
   ]
  },
  {
   "cell_type": "markdown",
   "id": "bd516e84",
   "metadata": {},
   "source": [
    "Muitos métodos da biblioteca padrão lidam com sequências:"
   ]
  },
  {
   "cell_type": "code",
   "execution_count": 116,
   "id": "6769a93c",
   "metadata": {},
   "outputs": [
    {
     "data": {
      "text/plain": [
       "Card(rank='Q', suit='diamonds')"
      ]
     },
     "execution_count": 116,
     "metadata": {},
     "output_type": "execute_result"
    }
   ],
   "source": [
    "from random import choice\n",
    "choice(deck)"
   ]
  },
  {
   "cell_type": "markdown",
   "id": "d4607555",
   "metadata": {},
   "source": [
    "Mas a função `shuffle` não funciona. Resolver isso será um exercício logo mais:"
   ]
  },
  {
   "cell_type": "code",
   "execution_count": 122,
   "id": "532acbb6",
   "metadata": {},
   "outputs": [],
   "source": [
    "from random import shuffle\n",
    "\n",
    "# This should raise a TypeError\n",
    "# shuffle(deck)"
   ]
  },
  {
   "cell_type": "markdown",
   "id": "1a86bf8e",
   "metadata": {},
   "source": [
    "Podemos usar `sorted` para percorrer o baralho em pela ordem de comparação dos elementos das tuplas `Card`:"
   ]
  },
  {
   "cell_type": "code",
   "execution_count": 117,
   "id": "6190c00d",
   "metadata": {},
   "outputs": [
    {
     "name": "stdout",
     "output_type": "stream",
     "text": [
      "10 of clubs\n",
      "10 of diamonds\n",
      "10 of hearts\n",
      "10 of spades\n",
      "2 of clubs\n",
      "2 of diamonds\n",
      "2 of hearts\n",
      "2 of spades\n",
      "3 of clubs\n",
      "3 of diamonds\n",
      "3 of hearts\n",
      "3 of spades\n",
      "4 of clubs\n",
      "4 of diamonds\n",
      "4 of hearts\n",
      "4 of spades\n",
      "5 of clubs\n",
      "5 of diamonds\n",
      "5 of hearts\n",
      "5 of spades\n",
      "6 of clubs\n",
      "6 of diamonds\n",
      "6 of hearts\n",
      "6 of spades\n",
      "7 of clubs\n",
      "7 of diamonds\n",
      "7 of hearts\n",
      "7 of spades\n",
      "8 of clubs\n",
      "8 of diamonds\n",
      "8 of hearts\n",
      "8 of spades\n",
      "9 of clubs\n",
      "9 of diamonds\n",
      "9 of hearts\n",
      "9 of spades\n",
      "A of clubs\n",
      "A of diamonds\n",
      "A of hearts\n",
      "A of spades\n",
      "J of clubs\n",
      "J of diamonds\n",
      "J of hearts\n",
      "J of spades\n",
      "K of clubs\n",
      "K of diamonds\n",
      "K of hearts\n",
      "K of spades\n",
      "Q of clubs\n",
      "Q of diamonds\n",
      "Q of hearts\n",
      "Q of spades\n"
     ]
    }
   ],
   "source": [
    "for card in sorted(deck):\n",
    "    print(card)"
   ]
  },
  {
   "cell_type": "markdown",
   "id": "42bac4c6",
   "metadata": {},
   "source": [
    "Podemos criar uma função que estabelece um critério de ordenação melhor:"
   ]
  },
  {
   "cell_type": "code",
   "execution_count": 101,
   "id": "d5ff533e",
   "metadata": {},
   "outputs": [],
   "source": [
    "suit_values = dict(spades=3, hearts=2, diamonds=1, clubs=0)\n",
    "\n",
    "def spades_high_ordering(card):\n",
    "    rank_value = FrenchDeck.ranks.index(card.rank)\n",
    "    return rank_value * len(suit_values) + suit_values[card.suit]"
   ]
  },
  {
   "cell_type": "code",
   "execution_count": 102,
   "id": "aafe58e2",
   "metadata": {},
   "outputs": [
    {
     "data": {
      "text/plain": [
       "0"
      ]
     },
     "execution_count": 102,
     "metadata": {},
     "output_type": "execute_result"
    }
   ],
   "source": [
    "spades_high_ordering(Card('2', 'clubs'))"
   ]
  },
  {
   "cell_type": "code",
   "execution_count": 103,
   "id": "0f4b2395",
   "metadata": {},
   "outputs": [
    {
     "data": {
      "text/plain": [
       "51"
      ]
     },
     "execution_count": 103,
     "metadata": {},
     "output_type": "execute_result"
    }
   ],
   "source": [
    "spades_high_ordering(Card('A', 'spades'))"
   ]
  },
  {
   "cell_type": "markdown",
   "id": "85198ed8",
   "metadata": {},
   "source": [
    "Daí usamos a função como parâmetro `key` em `sorted`. Várias outras funções da biblioteca padrão que envolvem comparação de itens aceitam o parâmetro `key`."
   ]
  },
  {
   "cell_type": "code",
   "execution_count": 118,
   "id": "d7f7a8cf",
   "metadata": {},
   "outputs": [
    {
     "name": "stdout",
     "output_type": "stream",
     "text": [
      "2 of clubs\n",
      "2 of diamonds\n",
      "2 of hearts\n",
      "2 of spades\n",
      "3 of clubs\n",
      "3 of diamonds\n",
      "3 of hearts\n",
      "3 of spades\n",
      "4 of clubs\n",
      "4 of diamonds\n",
      "4 of hearts\n",
      "4 of spades\n",
      "5 of clubs\n",
      "5 of diamonds\n",
      "5 of hearts\n",
      "5 of spades\n",
      "6 of clubs\n",
      "6 of diamonds\n",
      "6 of hearts\n",
      "6 of spades\n",
      "7 of clubs\n",
      "7 of diamonds\n",
      "7 of hearts\n",
      "7 of spades\n",
      "8 of clubs\n",
      "8 of diamonds\n",
      "8 of hearts\n",
      "8 of spades\n",
      "9 of clubs\n",
      "9 of diamonds\n",
      "9 of hearts\n",
      "9 of spades\n",
      "10 of clubs\n",
      "10 of diamonds\n",
      "10 of hearts\n",
      "10 of spades\n",
      "J of clubs\n",
      "J of diamonds\n",
      "J of hearts\n",
      "J of spades\n",
      "Q of clubs\n",
      "Q of diamonds\n",
      "Q of hearts\n",
      "Q of spades\n",
      "K of clubs\n",
      "K of diamonds\n",
      "K of hearts\n",
      "K of spades\n",
      "A of clubs\n",
      "A of diamonds\n",
      "A of hearts\n",
      "A of spades\n"
     ]
    }
   ],
   "source": [
    "for card in sorted(deck, key=spades_high_ordering):\n",
    "    print(card)"
   ]
  },
  {
   "cell_type": "markdown",
   "id": "52ed3059",
   "metadata": {},
   "source": [
    "#### Exercício\n",
    "\n",
    "Defina uma nova ordem que classifique as cartas primeiro por naipe e depois por valor, de forma que todos os paus venham primeiro, seguidos por todos os ouros, etc."
   ]
  },
  {
   "cell_type": "code",
   "execution_count": 109,
   "id": "b3a7e102",
   "metadata": {},
   "outputs": [],
   "source": [
    "# resposta\n",
    "\n",
    "suit_values = dict(spades=3, hearts=2, diamonds=1, clubs=0)\n",
    "rank_values = dict(zip(FrenchDeck.ranks, range(len(FrenchDeck.ranks))))\n",
    "\n",
    "def new_spades_high_ordering(card):\n",
    "    return suit_values[card.suit] * len(rank_values) + rank_values[card.rank]\n"
   ]
  },
  {
   "cell_type": "code",
   "execution_count": 110,
   "id": "fbdf8a89",
   "metadata": {},
   "outputs": [
    {
     "data": {
      "text/plain": [
       "51"
      ]
     },
     "execution_count": 110,
     "metadata": {},
     "output_type": "execute_result"
    }
   ],
   "source": [
    "new_spades_high_ordering(Card('A', 'spades'))"
   ]
  },
  {
   "cell_type": "code",
   "execution_count": 111,
   "id": "804afd91",
   "metadata": {},
   "outputs": [
    {
     "data": {
      "text/plain": [
       "2"
      ]
     },
     "execution_count": 111,
     "metadata": {},
     "output_type": "execute_result"
    }
   ],
   "source": [
    "new_spades_high_ordering(Card('4', 'clubs'))"
   ]
  },
  {
   "cell_type": "code",
   "execution_count": 112,
   "id": "cef37cf3",
   "metadata": {},
   "outputs": [
    {
     "name": "stdout",
     "output_type": "stream",
     "text": [
      "2 of clubs\n",
      "3 of clubs\n",
      "4 of clubs\n",
      "5 of clubs\n",
      "6 of clubs\n",
      "7 of clubs\n",
      "8 of clubs\n",
      "9 of clubs\n",
      "10 of clubs\n",
      "J of clubs\n",
      "Q of clubs\n",
      "K of clubs\n",
      "A of clubs\n",
      "2 of diamonds\n",
      "3 of diamonds\n",
      "4 of diamonds\n",
      "5 of diamonds\n",
      "6 of diamonds\n",
      "7 of diamonds\n",
      "8 of diamonds\n",
      "9 of diamonds\n",
      "10 of diamonds\n",
      "J of diamonds\n",
      "Q of diamonds\n",
      "K of diamonds\n",
      "A of diamonds\n",
      "2 of hearts\n",
      "3 of hearts\n",
      "4 of hearts\n",
      "5 of hearts\n",
      "6 of hearts\n",
      "7 of hearts\n",
      "8 of hearts\n",
      "9 of hearts\n",
      "10 of hearts\n",
      "J of hearts\n",
      "Q of hearts\n",
      "K of hearts\n",
      "A of hearts\n",
      "2 of spades\n",
      "3 of spades\n",
      "4 of spades\n",
      "5 of spades\n",
      "6 of spades\n",
      "7 of spades\n",
      "8 of spades\n",
      "9 of spades\n",
      "10 of spades\n",
      "J of spades\n",
      "Q of spades\n",
      "K of spades\n",
      "A of spades\n"
     ]
    }
   ],
   "source": [
    "for card in sorted(deck, key=new_spades_high_ordering):\n",
    "    print(card)"
   ]
  },
  {
   "cell_type": "markdown",
   "id": "efe14ef8",
   "metadata": {},
   "source": [
    "#### Exercício\n",
    "\n",
    "Escreva um método chamado `setcard` que pega um baralho, um índice e uma carta e atribui a carta ao baralho na posição dada.\n",
    "\n",
    "Em seguida, faça um monkey-patch em `FrenchDeck` para fornecer `__setitem__` como método. Teste atribuindo uma nova carta assim:\n",
    "\n",
    "```meu_baralho[0] = Card('A', 'spades')```\n",
    "\n",
    "Então tenter embaralhar usando `random.shuffle`."
   ]
  },
  {
   "cell_type": "code",
   "execution_count": 140,
   "id": "ffa1f986",
   "metadata": {},
   "outputs": [],
   "source": [
    "# resposta\n",
    "\n",
    "def set_card(deck, position, card):\n",
    "    deck._cards[position] = card\n",
    "\n",
    "FrenchDeck.__setitem__ = set_card"
   ]
  },
  {
   "cell_type": "code",
   "execution_count": 180,
   "id": "fe18ce92",
   "metadata": {},
   "outputs": [
    {
     "data": {
      "text/plain": [
       "Card(rank='10', suit='diamonds')"
      ]
     },
     "execution_count": 180,
     "metadata": {},
     "output_type": "execute_result"
    }
   ],
   "source": [
    "shuffle(deck)\n",
    "deck[0]    "
   ]
  },
  {
   "cell_type": "code",
   "execution_count": 183,
   "id": "aeb8a4aa",
   "metadata": {},
   "outputs": [
    {
     "data": {
      "text/plain": [
       "[Card(rank='5', suit='hearts'),\n",
       " Card(rank='6', suit='spades'),\n",
       " Card(rank='Q', suit='clubs'),\n",
       " Card(rank='A', suit='diamonds'),\n",
       " Card(rank='A', suit='clubs')]"
      ]
     },
     "execution_count": 183,
     "metadata": {},
     "output_type": "execute_result"
    }
   ],
   "source": [
    "shuffle(deck)\n",
    "deck[:5]"
   ]
  },
  {
   "cell_type": "code",
   "execution_count": 185,
   "id": "0a2e5059",
   "metadata": {},
   "outputs": [
    {
     "data": {
      "text/plain": [
       "Card(rank='5', suit='hearts')"
      ]
     },
     "execution_count": 185,
     "metadata": {},
     "output_type": "execute_result"
    }
   ],
   "source": [
    "deck[0] = Card(rank='5', suit='hearts')\n",
    "deck[0]    "
   ]
  },
  {
   "cell_type": "markdown",
   "id": "156537c9-ba85-45f9-9c89-8dbac8b6a9de",
   "metadata": {},
   "source": [
    "#### Exercício bônus\n",
    "\n",
    "A operação de fatiamento `x[a:b]` normalmente devolve uma instância da mesma classe de `x`.\n",
    "\n",
    "Será necessário alterar `FrenchDeck` para fazer isso acontecer? Como?\n",
    "\n",
    "**Dica 1:** O compilador de Python transforma `x[a:b]` em `x.__gettattr__(slice(a, b))`.  \n",
    "\n",
    "**Dica 2:** Será preciso mexer no construtor de `FrenchDeck`, aceitando uma lista opcional de cartas."
   ]
  },
  {
   "cell_type": "markdown",
   "id": "2402f919-72da-43b4-b9ce-21884af66f45",
   "metadata": {},
   "source": []
  },
  {
   "cell_type": "code",
   "execution_count": null,
   "id": "5cff825c-a396-44e0-a70f-6f65bd97be1f",
   "metadata": {},
   "outputs": [],
   "source": []
  }
 ],
 "metadata": {
  "kernelspec": {
   "display_name": "Python 3 (ipykernel)",
   "language": "python",
   "name": "python3"
  },
  "language_info": {
   "codemirror_mode": {
    "name": "ipython",
    "version": 3
   },
   "file_extension": ".py",
   "mimetype": "text/x-python",
   "name": "python",
   "nbconvert_exporter": "python",
   "pygments_lexer": "ipython3",
   "version": "3.12.4"
  }
 },
 "nbformat": 4,
 "nbformat_minor": 5
}
