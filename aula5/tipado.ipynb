{
 "cells": [
  {
   "cell_type": "code",
   "execution_count": 2,
   "metadata": {},
   "outputs": [],
   "source": [
    "def tipada(classe):\n",
    "    return classe"
   ]
  },
  {
   "cell_type": "code",
   "execution_count": 3,
   "metadata": {},
   "outputs": [],
   "source": [
    "@tipada\n",
    "class Pet:\n",
    "    nome: str\n",
    "    peso: float"
   ]
  },
  {
   "cell_type": "code",
   "execution_count": 4,
   "metadata": {},
   "outputs": [
    {
     "ename": "TypeError",
     "evalue": "Pet() takes no arguments",
     "output_type": "error",
     "traceback": [
      "\u001b[1;31m---------------------------------------------------------------------------\u001b[0m",
      "\u001b[1;31mTypeError\u001b[0m                                 Traceback (most recent call last)",
      "Cell \u001b[1;32mIn[4], line 1\u001b[0m\n\u001b[1;32m----> 1\u001b[0m rex \u001b[38;5;241m=\u001b[39m \u001b[43mPet\u001b[49m\u001b[43m(\u001b[49m\u001b[38;5;124;43m'\u001b[39;49m\u001b[38;5;124;43mRex\u001b[39;49m\u001b[38;5;124;43m'\u001b[39;49m\u001b[43m,\u001b[49m\u001b[43m \u001b[49m\u001b[38;5;241;43m7.5\u001b[39;49m\u001b[43m)\u001b[49m\n",
      "\u001b[1;31mTypeError\u001b[0m: Pet() takes no arguments"
     ]
    }
   ],
   "source": [
    "rex = Pet('Rex', 7.5)"
   ]
  },
  {
   "cell_type": "code",
   "execution_count": 23,
   "metadata": {},
   "outputs": [
    {
     "data": {
      "text/plain": [
       "{'nome': str, 'peso': float}"
      ]
     },
     "execution_count": 23,
     "metadata": {},
     "output_type": "execute_result"
    }
   ],
   "source": [
    "Pet.__annotations__"
   ]
  },
  {
   "cell_type": "code",
   "execution_count": 28,
   "metadata": {},
   "outputs": [],
   "source": [
    "def inicializar(objeto, *args):\n",
    "    dicas = objeto.__annotations__\n",
    "    if len(dicas) != len(args):\n",
    "        raise TypeError(f'Obrigatório informar {', '.join(dicas.keys())}')\n",
    "    for nome, arg in zip(dicas, args):\n",
    "        setattr(objeto, nome, arg)"
   ]
  },
  {
   "cell_type": "code",
   "execution_count": 20,
   "metadata": {},
   "outputs": [],
   "source": [
    "fido = Pet()"
   ]
  },
  {
   "cell_type": "code",
   "execution_count": 29,
   "metadata": {},
   "outputs": [],
   "source": [
    "inicializar(fido, 'Fido', 6)"
   ]
  },
  {
   "cell_type": "code",
   "execution_count": 30,
   "metadata": {},
   "outputs": [
    {
     "data": {
      "text/plain": [
       "{'nome': 'Fido', 'peso': 6}"
      ]
     },
     "execution_count": 30,
     "metadata": {},
     "output_type": "execute_result"
    }
   ],
   "source": [
    "fido.__dict__"
   ]
  },
  {
   "cell_type": "code",
   "execution_count": 37,
   "metadata": {},
   "outputs": [],
   "source": [
    "def representar(objeto):\n",
    "    valores = [repr(valor) for valor in objeto.__dict__.values()]\n",
    "    return f'{type(objeto).__name__}({', '.join(valores)})'"
   ]
  },
  {
   "cell_type": "code",
   "execution_count": 38,
   "metadata": {},
   "outputs": [],
   "source": [
    "class NomeDaClasse():\n",
    "    x = 10"
   ]
  },
  {
   "cell_type": "code",
   "execution_count": 27,
   "metadata": {},
   "outputs": [],
   "source": [
    "NomeDaClasse = type('NomeDaClasse', (str, ), {'x': 10})"
   ]
  },
  {
   "cell_type": "code",
   "execution_count": 41,
   "metadata": {},
   "outputs": [],
   "source": [
    "def auto(classe):\n",
    "    return type(classe.__name__, (), {\n",
    "        '__init__': inicializar, \n",
    "        '__repr__': representar,\n",
    "        '__annotations__': classe.__annotations__}\n",
    "    )"
   ]
  },
  {
   "cell_type": "code",
   "execution_count": 45,
   "metadata": {},
   "outputs": [],
   "source": [
    "@auto\n",
    "class Pet:\n",
    "    nome: str\n",
    "    peso: float\n",
    "\n",
    "felix = Pet('Felix', 3.0)"
   ]
  },
  {
   "cell_type": "code",
   "execution_count": 46,
   "metadata": {},
   "outputs": [
    {
     "data": {
      "text/plain": [
       "Pet('Felix', 3.0)"
      ]
     },
     "execution_count": 46,
     "metadata": {},
     "output_type": "execute_result"
    }
   ],
   "source": [
    "felix"
   ]
  },
  {
   "cell_type": "code",
   "execution_count": 36,
   "metadata": {},
   "outputs": [],
   "source": [
    "def inicializar_estrito(objeto, *args):\n",
    "    dicas = objeto.__annotations__\n",
    "    if len(dicas) != len(args):\n",
    "        raise TypeError(f'Obrigatório informar {', '.join(dicas.keys())}')\n",
    "    for nome, arg in zip(dicas, args):\n",
    "        if dicas[nome] is float:\n",
    "            tipo = (int, float)\n",
    "            arg = float(arg)\n",
    "        else:\n",
    "            tipo = dicas[nome]\n",
    "        if isinstance(arg, tipo):\n",
    "            setattr(objeto, nome, arg)\n",
    "        else:\n",
    "            raise TypeError(f'Atributo {nome} deve ser {dicas[nome].__name__}')"
   ]
  },
  {
   "cell_type": "code",
   "execution_count": 47,
   "metadata": {},
   "outputs": [],
   "source": [
    "p = Pet('P', 1)"
   ]
  },
  {
   "cell_type": "code",
   "execution_count": 48,
   "metadata": {},
   "outputs": [],
   "source": [
    "inicializar_estrito(p, 'X', 5.5) "
   ]
  },
  {
   "cell_type": "code",
   "execution_count": 49,
   "metadata": {},
   "outputs": [
    {
     "data": {
      "text/plain": [
       "Pet('X', 5.5)"
      ]
     },
     "execution_count": 49,
     "metadata": {},
     "output_type": "execute_result"
    }
   ],
   "source": [
    "p"
   ]
  },
  {
   "cell_type": "code",
   "execution_count": 53,
   "metadata": {},
   "outputs": [],
   "source": [
    "def tipada(classe):\n",
    "    return type(classe.__name__, (), {\n",
    "        '__init__': inicializar_estrito, \n",
    "        '__repr__': representar,\n",
    "        '__annotations__': classe.__annotations__}\n",
    "    )"
   ]
  },
  {
   "cell_type": "code",
   "execution_count": 54,
   "metadata": {},
   "outputs": [],
   "source": [
    "@tipada\n",
    "class Pet:\n",
    "    nome: str\n",
    "    peso: float"
   ]
  },
  {
   "cell_type": "code",
   "execution_count": 55,
   "metadata": {},
   "outputs": [],
   "source": [
    "lulu = Pet('Lulu', 6)"
   ]
  }
 ],
 "metadata": {
  "kernelspec": {
   "display_name": ".venv",
   "language": "python",
   "name": "python3"
  },
  "language_info": {
   "codemirror_mode": {
    "name": "ipython",
    "version": 3
   },
   "file_extension": ".py",
   "mimetype": "text/x-python",
   "name": "python",
   "nbconvert_exporter": "python",
   "pygments_lexer": "ipython3",
   "version": "3.12.4"
  }
 },
 "nbformat": 4,
 "nbformat_minor": 2
}
